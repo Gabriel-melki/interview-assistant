{
 "cells": [
  {
   "cell_type": "code",
   "execution_count": 1,
   "metadata": {},
   "outputs": [],
   "source": [
    "import nest_asyncio\n",
    "from uuid import uuid1\n",
    "from openai import AsyncOpenAI\n",
    "\n",
    "from interview_assistant.core.schemas import QuestionGenerationRequest\n",
    "from interview_assistant.core.services import AsyncTipService, AsyncQuestionService, QuestionService, TipService\n",
    "from interview_assistant.core.ai.content_generation.tip_content_generation import AsyncOpenAITipContentGenerator\n",
    "from interview_assistant.core.ai.content_generation.question_content_generation import AsyncOpenAIQuestionContentGenerator\n",
    "\n",
    "# Initialize synchronous services\n",
    "tip_service = TipService()\n",
    "question_service = QuestionService()\n",
    "\n",
    "# Enable async support in Jupyter\n",
    "nest_asyncio.apply()\n",
    "\n",
    "# Create async services\n",
    "async_client = AsyncOpenAI()\n",
    "async_tip_generator = AsyncOpenAITipContentGenerator(chat_client=async_client)\n",
    "async_tip_service = AsyncTipService(content_generator=async_tip_generator)\n",
    "\n",
    "# Create async services\n",
    "async_client = AsyncOpenAI()\n",
    "async_question_generator = AsyncOpenAIQuestionContentGenerator(chat_client=async_client)\n",
    "async_question_service = AsyncQuestionService(content_generator=async_question_generator)"
   ]
  },
  {
   "cell_type": "code",
   "execution_count": 2,
   "metadata": {},
   "outputs": [],
   "source": [
    "user_id = uuid1()\n",
    "request = QuestionGenerationRequest(\n",
    "    user_id=user_id,\n",
    "    question_type='knowledge question',\n",
    "    job_title='data analyst',\n",
    "    skill_to_test=\"Big Query\",\n",
    "    n=1\n",
    ")"
   ]
  },
  {
   "cell_type": "markdown",
   "metadata": {},
   "source": [
    "# Testing synchronous services"
   ]
  },
  {
   "cell_type": "code",
   "execution_count": 3,
   "metadata": {},
   "outputs": [
    {
     "data": {
      "text/plain": [
       "[GeneratedQuestion(created_at=datetime.datetime(2025, 2, 13, 14, 13, 36, 328962, tzinfo=datetime.timezone.utc), app_version='0.1.0', question=\"Write an SQL query in BigQuery to find the top 5 products by sales revenue from a dataset named 'sales_data' with columns 'product_id', 'product_name', 'quantity_sold', and 'price'. Assume the sales revenue is calculated as the product of 'quantity_sold' and 'price'.\", expected_answer='The query should look something like this:\\n\\n```sql\\nSELECT product_name, SUM(quantity_sold * price) AS total_revenue\\nFROM sales_data\\nGROUP BY product_id, product_name\\nORDER BY total_revenue DESC\\nLIMIT 5;\\n```', evaluation_criteria='Correctness, Efficiency, Clarity, Completeness', expected_duration='10-15 minutes', id=UUID('b70fd410-ea14-11ef-86f2-faffc2513cbb'), request=QuestionGenerationRequest(user_id=UUID('b3393f02-ea14-11ef-86f2-faffc2513cbb'), question_type='knowledge question', job_title='data analyst', skill_to_test='Big Query', n=1))]"
      ]
     },
     "execution_count": 3,
     "metadata": {},
     "output_type": "execute_result"
    }
   ],
   "source": [
    "new_questions = question_service.generate_questions(request=request)\n",
    "new_questions"
   ]
  },
  {
   "cell_type": "code",
   "execution_count": 4,
   "metadata": {},
   "outputs": [
    {
     "data": {
      "text/plain": [
       "GeneratedTip(created_at=datetime.datetime(2025, 2, 13, 14, 13, 43, 890368, tzinfo=datetime.timezone.utc), app_version='0.1.0', tip='Focus on correctly calculating the total revenue per product and using appropriate SQL clauses to aggregate and order the results.', id=UUID('bb919a0a-ea14-11ef-86f2-faffc2513cbb'), request=TipGenerationRequest(question_id=UUID('b70fd410-ea14-11ef-86f2-faffc2513cbb')))"
      ]
     },
     "execution_count": 4,
     "metadata": {},
     "output_type": "execute_result"
    }
   ],
   "source": [
    "question_id = new_questions[0].id\n",
    "tip = tip_service.generate_tip(question_id)\n",
    "tip"
   ]
  },
  {
   "cell_type": "markdown",
   "metadata": {},
   "source": [
    "# Testing async services"
   ]
  },
  {
   "cell_type": "code",
   "execution_count": 5,
   "metadata": {},
   "outputs": [
    {
     "name": "stdout",
     "output_type": "stream",
     "text": [
      "Write a BigQuery SQL statement to calculate the average time between a user's first visit to a website and their first purchase. Assume a dataset named 'user_data' with columns 'user_id', 'visit_timestamp', and 'purchase_timestamp'. If a user has not made a purchase yet, assume their first purchase time as the current time. \n",
      "\n",
      "EXPECTED_ANSWER: \n",
      "The candidate should write a BigQuery SQL statement that first identifies the earliest 'visit_timestamp' and 'purchase_timestamp' for each 'user_id', then calculates the time difference between these two timestamps for each user, and finally calculates the average of these time differences across all users. They should also account for users who have not made a purchase yet by assuming their first purchase time as the current time.\n",
      "\n",
      "EXPECTED_DURATION: \n",
      "15 minutes\n",
      "\n",
      "EVALUATION_CRITERIA:\n",
      "- SQL proficiency\n",
      "- Problem-solving skills\n",
      "- Attention to detail\n",
      "- Understanding of BigQuery-specific functions and syntax\n",
      "- Time management skills"
     ]
    }
   ],
   "source": [
    "# Create an async function to handle the streaming\n",
    "async def stream_question():\n",
    "    async for chunk in async_question_service.generate_question_stream(request=request):\n",
    "        if isinstance(chunk, str):\n",
    "            print(chunk, end='', flush=True)\n",
    "\n",
    "# Run the async function\n",
    "await stream_question()"
   ]
  },
  {
   "cell_type": "code",
   "execution_count": 6,
   "metadata": {},
   "outputs": [
    {
     "name": "stdout",
     "output_type": "stream",
     "text": [
      "Remember to include both 'product_id' and 'product_name' in your GROUP BY clause to ensure unique products are correctly grouped, even if they share the same name."
     ]
    }
   ],
   "source": [
    "# Create an async function to handle the streaming\n",
    "async def stream_tip():\n",
    "    async for chunk in async_tip_service.generate_tip_stream(question_id):\n",
    "        if isinstance(chunk, str):\n",
    "            print(chunk, end='', flush=True)\n",
    "\n",
    "# Run the async function\n",
    "await stream_tip()"
   ]
  }
 ],
 "metadata": {
  "kernelspec": {
   "display_name": ".venv",
   "language": "python",
   "name": "python3"
  },
  "language_info": {
   "codemirror_mode": {
    "name": "ipython",
    "version": 3
   },
   "file_extension": ".py",
   "mimetype": "text/x-python",
   "name": "python",
   "nbconvert_exporter": "python",
   "pygments_lexer": "ipython3",
   "version": "3.12.3"
  },
  "orig_nbformat": 4
 },
 "nbformat": 4,
 "nbformat_minor": 2
}
