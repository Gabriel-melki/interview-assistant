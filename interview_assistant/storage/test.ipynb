{
 "cells": [
  {
   "cell_type": "code",
   "execution_count": 2,
   "metadata": {},
   "outputs": [
    {
     "name": "stdout",
     "output_type": "stream",
     "text": [
      "5\n",
      "0\n",
      "1\n"
     ]
    }
   ],
   "source": [
    "from typing import List\n",
    "\n",
    "def max_profit(prices: List[int]) -> int:\n",
    "    if not prices:\n",
    "        return 0  # No prices given\n",
    "\n",
    "    min_price = float('inf')\n",
    "    max_profit = 0\n",
    "\n",
    "    for i, price in enumerate(prices):\n",
    "        min_price = min(min_price, price)  # Track the lowest price so far\n",
    "        max_profit = max(max_profit, price - min_price)  # Compute max profit\n",
    "        print(i, price, min_price, max_profit)\n",
    "    return max_profit\n",
    "\n",
    "# Tests\n",
    "print(max_profit([7, 1, 5, 3, 6, 4]))  # 5 (Buy at 1, sell at 6)\n",
    "print(max_profit([7, 6, 4, 3, 1]))  # 0 (No profit possible)\n",
    "print(max_profit([7, 6, 4, 5, 1]))  # 1 ()"
   ]
  },
  {
   "cell_type": "code",
   "execution_count": null,
   "metadata": {},
   "outputs": [],
   "source": []
  }
 ],
 "metadata": {
  "kernelspec": {
   "display_name": ".venv",
   "language": "python",
   "name": "python3"
  },
  "language_info": {
   "codemirror_mode": {
    "name": "ipython",
    "version": 3
   },
   "file_extension": ".py",
   "mimetype": "text/x-python",
   "name": "python",
   "nbconvert_exporter": "python",
   "pygments_lexer": "ipython3",
   "version": "3.12.3"
  }
 },
 "nbformat": 4,
 "nbformat_minor": 2
}
